{
 "metadata": {
  "language_info": {
   "codemirror_mode": {
    "name": "ipython",
    "version": 3
   },
   "file_extension": ".py",
   "mimetype": "text/x-python",
   "name": "python",
   "nbconvert_exporter": "python",
   "pygments_lexer": "ipython3",
   "version": "3.9.2"
  },
  "orig_nbformat": 4,
  "kernelspec": {
   "name": "python3",
   "display_name": "Python 3.9.2 64-bit"
  },
  "interpreter": {
   "hash": "39d7a255d4176126bb60d58490ff3164cc3b659c87e283a77bc5e59f8812299c"
  }
 },
 "nbformat": 4,
 "nbformat_minor": 2,
 "cells": [
  {
   "source": [
    "ENTREGA PROVA DE PROJETO DE MAQUINAS//NOME: JULIO ALVAREZ//RA: 18.00522-5"
   ],
   "cell_type": "markdown",
   "metadata": {}
  },
  {
   "source": [
    "EXS 1"
   ],
   "cell_type": "markdown",
   "metadata": {}
  },
  {
   "source": [
    "Importando as ferramentas para solução e preenchendo valores conhecidos..."
   ],
   "cell_type": "markdown",
   "metadata": {}
  },
  {
   "source": [
    "from Maquinas import np,math,Mecanismo\n",
    "mec = Mecanismo()\n",
    "elos = [0.127,0.508]\n",
    "ang = np.deg2rad(225)\n",
    "vel_motor = 0"
   ],
   "cell_type": "code",
   "metadata": {},
   "execution_count": 3,
   "outputs": []
  },
  {
   "source": [
    "Início da solução:"
   ],
   "cell_type": "markdown",
   "metadata": {}
  },
  {
   "cell_type": "code",
   "execution_count": null,
   "metadata": {},
   "outputs": [],
   "source": []
  }
 ]
}